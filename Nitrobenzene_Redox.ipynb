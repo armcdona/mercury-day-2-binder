{
 "cells": [
  {
   "cell_type": "code",
   "execution_count": null,
   "metadata": {},
   "outputs": [],
   "source": [
    "import psi4\n",
    "import numpy as np"
   ]
  },
  {
   "cell_type": "markdown",
   "metadata": {},
   "source": [
    "## Part A: Initial setup and energy calculation\n",
    "\n",
    "Below are (unoptimized) coordinates for nitrobenzene and a quick energy calculation using the method/basis set combination of B3LYP/3-21G."
   ]
  },
  {
   "cell_type": "code",
   "execution_count": null,
   "metadata": {},
   "outputs": [],
   "source": [
    "psi4.set_memory('2 GB')\n",
    "psi4.set_num_threads(2)\n",
    "\n",
    "nitrobenz = psi4.geometry(\"\"\"\n",
    "symmetry c1\n",
    "0 1\n",
    "C       -3.5048225421    0.0711805817    0.1456897967\n",
    "C       -2.1242069042    0.0676957680    0.1437250554\n",
    "C       -1.4565144627    1.2657898054    0.0112805274\n",
    "C       -2.1243502782    2.4616659201   -0.1394727314\n",
    "C       -3.5049153121    2.4578370923   -0.1457245349\n",
    "C       -4.1936081427    1.2645153194    0.0001955136\n",
    "H       -4.0381801262   -0.8505059514    0.2559173303\n",
    "H       -1.5620288767   -0.8346363876    0.2389155097\n",
    "H       -1.5619534389    3.3630228735   -0.2428628637\n",
    "H       -4.0382012347    3.3785626398   -0.2639829256\n",
    "H       -5.2650389640    1.2641688843   -0.0022762561\n",
    "N       -0.0085078655    1.2648596634   -0.0056641832\n",
    "O        0.5639468379    0.1670702678   -0.1297708787\n",
    "O        0.5668300231    2.3598431617    0.1306822195\n",
    "\"\"\")\n",
    "\n",
    "psi4.set_output_file('00_initial_energy.dat', False)\n",
    "# Uncomment this line and change charge / multiplicity above to perform calculations on the anion.\n",
    "# If you already carried out calculations on the neutral molecule in this notebook,\n",
    "# don't forget to click Kernel -> Restart & Clear Output before working on the anion.\n",
    "# psi4.set_options({'reference':'UKS'})\n",
    "psi4.energy('B3LYP/3-21G')"
   ]
  },
  {
   "cell_type": "markdown",
   "metadata": {},
   "source": [
    "## Part B: Geometry optimization (gas phase)"
   ]
  },
  {
   "cell_type": "code",
   "execution_count": null,
   "metadata": {},
   "outputs": [],
   "source": [
    "psi4.set_output_file('01_geometry_optimization.dat', False)\n",
    "psi4.set_options({'g_convergence': 'gau_tight'}) # this forces the optimizer to get close to the minimum\n",
    "psi4.optimize('B3LYP/3-21G', molecule=nitrobenz)"
   ]
  },
  {
   "cell_type": "markdown",
   "metadata": {},
   "source": [
    "## Part C: Frequency calculation"
   ]
  },
  {
   "cell_type": "code",
   "execution_count": null,
   "metadata": {},
   "outputs": [],
   "source": [
    "psi4.set_output_file('02_frequency_analysis.dat', False)\n",
    "b3lyp_321g_energy, b3lyp_321g_wfn = psi4.frequency('B3LYP/3-21G', molecule=nitrobenz, return_wfn=True, dertype='gradient')"
   ]
  },
  {
   "cell_type": "code",
   "execution_count": null,
   "metadata": {},
   "outputs": [],
   "source": [
    "def parse_free_energy(filename):\n",
    "    \"\"\" Parse out the free energy from a Psi4 vibrational analysis output file in a.u. \"\"\"\n",
    "    for line in open(filename).readlines():\n",
    "        if \"Correction G\" in line:\n",
    "            return float(line.split()[-2])\n",
    "\n",
    "# Below this space, write a call to the function above and pass in the correct file name.\n",
    "\n"
   ]
  },
  {
   "cell_type": "markdown",
   "metadata": {},
   "source": [
    "## Part D: Energy calculation with large basis set + PCM solvent model"
   ]
  },
  {
   "cell_type": "code",
   "execution_count": null,
   "metadata": {},
   "outputs": [],
   "source": [
    "psi4.set_options({\n",
    "  'pcm': True,\n",
    "  'pcm_scf_type': 'total',\n",
    "})\n",
    "\n",
    "psi4.pcm_helper(\"\"\"\n",
    "   Units = Angstrom\n",
    "   Medium {\n",
    "   SolverType = CPCM\n",
    "   Solvent = Acetonitrile\n",
    "   }\n",
    "   Cavity {\n",
    "   RadiiSet = UFF\n",
    "   Type = GePol\n",
    "   Scaling = False\n",
    "   Area = 0.3\n",
    "   Mode = Implicit\n",
    "   }\n",
    "\"\"\")\n",
    "\n",
    "psi4.set_output_file('03_solvent_energy.dat', False)\n",
    "psi4.energy('B3LYP/heavy-aug-cc-pVDZ', molecule=nitrobenz, return_wfn=True)"
   ]
  }
 ],
 "metadata": {
  "kernelspec": {
   "display_name": "Python 3",
   "language": "python",
   "name": "python3"
  },
  "language_info": {
   "codemirror_mode": {
    "name": "ipython",
    "version": 3
   },
   "file_extension": ".py",
   "mimetype": "text/x-python",
   "name": "python",
   "nbconvert_exporter": "python",
   "pygments_lexer": "ipython3",
   "version": "3.7.3"
  }
 },
 "nbformat": 4,
 "nbformat_minor": 2
}
